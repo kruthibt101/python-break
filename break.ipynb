{
 "cells": [
  {
   "cell_type": "markdown",
   "id": "7338efe0-d6bc-4ff7-a35d-0021f59f6358",
   "metadata": {},
   "source": [
    "Assignment\n",
    "1.Write a program to print numbers from  to 0, but stop if the number is 5."
   ]
  },
  {
   "cell_type": "code",
   "execution_count": 1,
   "id": "97e7c7a5-89c7-40d0-94fe-a61557e99aa3",
   "metadata": {},
   "outputs": [
    {
     "name": "stdout",
     "output_type": "stream",
     "text": [
      "1\n",
      "2\n",
      "3\n",
      "4\n"
     ]
    }
   ],
   "source": [
    "for num in range(1,11):\n",
    "    if num == 5:\n",
    "        break\n",
    "    print(num)"
   ]
  },
  {
   "cell_type": "markdown",
   "id": "f7578b63-6e1f-4d46-8c37-6db87f5e494c",
   "metadata": {},
   "source": [
    "2.Write a program to iterate through a list and stop when encountering a specific element."
   ]
  },
  {
   "cell_type": "code",
   "execution_count": 8,
   "id": "7308ccb2-0a49-40fc-9dd4-abf1d7c7c7ed",
   "metadata": {},
   "outputs": [
    {
     "ename": "IndentationError",
     "evalue": "expected an indented block after 'for' statement on line 2 (3888270698.py, line 3)",
     "output_type": "error",
     "traceback": [
      "\u001b[0;36m  Cell \u001b[0;32mIn[8], line 3\u001b[0;36m\u001b[0m\n\u001b[0;31m    if item == stop_element:\u001b[0m\n\u001b[0m    ^\u001b[0m\n\u001b[0;31mIndentationError\u001b[0m\u001b[0;31m:\u001b[0m expected an indented block after 'for' statement on line 2\n"
     ]
    }
   ],
   "source": [
    "def stop_at_element(lst, stop_element):\n",
    "    for item in lst:\n",
    "        if item == stop_element:\n",
    "            break\n",
    "    print(item)"
   ]
  },
  {
   "cell_type": "markdown",
   "id": "7aa3dc3f-c9cf-43df-8e24-0f9b4c20b083",
   "metadata": {},
   "source": [
    "3.Write a program to skip printing even numbers from  1 to 10."
   ]
  },
  {
   "cell_type": "code",
   "execution_count": null,
   "id": "98d1f7c3-d66d-4f19-bf18-d67e761677d2",
   "metadata": {},
   "outputs": [],
   "source": [
    "for i in range(1,11):\n",
    "    if i % 2 != 0:\n",
    "        print(i)"
   ]
  },
  {
   "cell_type": "markdown",
   "id": "ea344df5-4896-48ab-aaf0-e3c883baa285",
   "metadata": {},
   "source": [
    "4.Write a program to print numbers from 0 to 9 using range()."
   ]
  },
  {
   "cell_type": "code",
   "execution_count": null,
   "id": "b89bb676-3323-4412-b98d-c88c8b2865f3",
   "metadata": {},
   "outputs": [],
   "source": [
    "for num in range(10):\n",
    "    print(num)"
   ]
  },
  {
   "cell_type": "markdown",
   "id": "12a7c287-a5a4-4678-a697-e2a387e6774f",
   "metadata": {},
   "source": [
    "Write a program to print multiplication tables from  1 to 5, but stop after the first table is printed for each\n",
    "number."
   ]
  },
  {
   "cell_type": "code",
   "execution_count": null,
   "id": "76e7a558-ec56-472b-9dc7-abc0f3609947",
   "metadata": {},
   "outputs": [],
   "source": [
    "for i in range(1,6):\n",
    "    print(\"multiplication table for i:\")\n",
    "    for j in range(1,10):\n",
    "            print( f\"{i} X {j} = {i * j}\")\n",
    "            print()\n",
    "    "
   ]
  },
  {
   "cell_type": "code",
   "execution_count": null,
   "id": "caa1ce68-b1e6-4a30-9401-4dbbc307225b",
   "metadata": {},
   "outputs": [],
   "source": [
    "6.Write a program to skip printing even numbers using a while loop."
   ]
  },
  {
   "cell_type": "code",
   "execution_count": 4,
   "id": "3a68130f-7502-4c34-8c10-43fd3c5db630",
   "metadata": {},
   "outputs": [
    {
     "name": "stdout",
     "output_type": "stream",
     "text": [
      "1\n",
      "3\n",
      "5\n",
      "7\n",
      "9\n"
     ]
    }
   ],
   "source": [
    "num = 1\n",
    "while num <= 10:\n",
    "    if num % 2 != 0:\n",
    "        print(num)\n",
    "    num += 1\n"
   ]
  },
  {
   "cell_type": "code",
   "execution_count": null,
   "id": "aba1a1e4-0a26-4c51-830d-8a9bcd2f3768",
   "metadata": {},
   "outputs": [],
   "source": []
  },
  {
   "cell_type": "code",
   "execution_count": null,
   "id": "a294cd23-8331-4b03-98e1-c293fc3a7bb5",
   "metadata": {},
   "outputs": [],
   "source": []
  },
  {
   "cell_type": "code",
   "execution_count": null,
   "id": "c04db5d5-8f09-49bd-8de9-e5fdea25234d",
   "metadata": {},
   "outputs": [],
   "source": []
  }
 ],
 "metadata": {
  "kernelspec": {
   "display_name": "Python 3 (ipykernel)",
   "language": "python",
   "name": "python3"
  },
  "language_info": {
   "codemirror_mode": {
    "name": "ipython",
    "version": 3
   },
   "file_extension": ".py",
   "mimetype": "text/x-python",
   "name": "python",
   "nbconvert_exporter": "python",
   "pygments_lexer": "ipython3",
   "version": "3.10.8"
  }
 },
 "nbformat": 4,
 "nbformat_minor": 5
}
